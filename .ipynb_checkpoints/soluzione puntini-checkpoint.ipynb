{
 "cells": [
  {
   "cell_type": "code",
   "execution_count": 36,
   "id": "d8e22142-4230-4543-8fbe-579ea24f1a68",
   "metadata": {},
   "outputs": [],
   "source": [
    "import pandas as pd # library for data analsysis\n",
    "pd.set_option('display.max_columns', None)\n",
    "pd.set_option('display.max_rows', None)\n"
   ]
  },
  {
   "cell_type": "code",
   "execution_count": 43,
   "id": "587dc937-79bc-4045-910a-9c8a4044d19f",
   "metadata": {},
   "outputs": [],
   "source": [
    "URL = 'https://bitinfocharts.com/top-100-richest-bitcoin-addresses.html'"
   ]
  },
  {
   "cell_type": "code",
   "execution_count": 44,
   "id": "479875b2-297c-4ce7-9958-37d60ac3cfd5",
   "metadata": {},
   "outputs": [
    {
     "name": "stdout",
     "output_type": "stream",
     "text": [
      "Requirement already satisfied: requests in /home/jupyterlab/conda/envs/python/lib/python3.7/site-packages (2.26.0)\n",
      "Requirement already satisfied: certifi>=2017.4.17 in /home/jupyterlab/conda/envs/python/lib/python3.7/site-packages (from requests) (2021.5.30)\n",
      "Requirement already satisfied: urllib3<1.27,>=1.21.1 in /home/jupyterlab/conda/envs/python/lib/python3.7/site-packages (from requests) (1.26.7)\n",
      "Requirement already satisfied: idna<4,>=2.5 in /home/jupyterlab/conda/envs/python/lib/python3.7/site-packages (from requests) (3.1)\n",
      "Requirement already satisfied: charset-normalizer~=2.0.0 in /home/jupyterlab/conda/envs/python/lib/python3.7/site-packages (from requests) (2.0.0)\n",
      "Note: you may need to restart the kernel to use updated packages.\n"
     ]
    }
   ],
   "source": [
    "pip install requests"
   ]
  },
  {
   "cell_type": "code",
   "execution_count": 45,
   "id": "fdbf83f9-af73-4c55-935d-4f1c06cf6524",
   "metadata": {},
   "outputs": [],
   "source": [
    "import requests"
   ]
  },
  {
   "cell_type": "code",
   "execution_count": 46,
   "id": "b0111495-0e21-4845-b530-f680a42dab0f",
   "metadata": {},
   "outputs": [],
   "source": [
    "header = {\n",
    "  \"User-Agent\": \"Mozilla/5.0 (X11; Linux x86_64) AppleWebKit/537.36 (KHTML, like Gecko) Chrome/50.0.2661.75 Safari/537.36\",\n",
    "  \"X-Requested-With\": \"XMLHttpRequest\"\n",
    "}\n",
    "\n",
    "r = requests.get(URL, headers=header)\n",
    "\n",
    "dfs = pd.read_html(r.text)"
   ]
  },
  {
   "cell_type": "code",
   "execution_count": 49,
   "id": "884ad968-9fbf-4dda-9bd3-56b3748a26b5",
   "metadata": {},
   "outputs": [],
   "source": [
    "lista=dfs[3]"
   ]
  },
  {
   "cell_type": "code",
   "execution_count": 50,
   "id": "c8f71d0c-016b-4eae-be24-5ad41540aad7",
   "metadata": {},
   "outputs": [],
   "source": [
    "lista.to_csv('lista.csv',index=False, header=True)"
   ]
  },
  {
   "cell_type": "markdown",
   "id": "4da4f776-a862-408f-a1e1-3e302a63f329",
   "metadata": {},
   "source": [
    "eliminare due puntini e la wallet poi non é troncato"
   ]
  },
  {
   "cell_type": "code",
   "execution_count": null,
   "id": "1bfca269-861d-4728-ab9e-6d979456e937",
   "metadata": {},
   "outputs": [],
   "source": []
  },
  {
   "cell_type": "code",
   "execution_count": null,
   "id": "9be22c55-8a2e-4ead-adc1-061cce6f7594",
   "metadata": {},
   "outputs": [],
   "source": []
  }
 ],
 "metadata": {
  "kernelspec": {
   "display_name": "Python",
   "language": "python",
   "name": "conda-env-python-py"
  },
  "language_info": {
   "codemirror_mode": {
    "name": "ipython",
    "version": 3
   },
   "file_extension": ".py",
   "mimetype": "text/x-python",
   "name": "python",
   "nbconvert_exporter": "python",
   "pygments_lexer": "ipython3",
   "version": "3.7.10"
  }
 },
 "nbformat": 4,
 "nbformat_minor": 5
}
